{
 "cells": [
  {
   "cell_type": "markdown",
   "metadata": {},
   "source": [
    "<p id=\"part0\"></p>\n",
    "\n",
    "<p style=\"font-family: Verdana; font-size: 24px; font-weight: bold; letter-spacing: 2px; text-align: center; color: #00008B\">Определение эффективности интенсивной технологии выращивания сах.свеклы</p>"
   ]
  },
  {
   "cell_type": "markdown",
   "metadata": {},
   "source": [
    " "
   ]
  },
  {
   "cell_type": "markdown",
   "metadata": {},
   "source": [
    "<p style=\"font-family: Verdana; font-size: 16px; font-style: normal; font-weight: bold; letter-spacing: 3px; color: #00008B\">СОДЕРЖАНИЕ</p>\n",
    "<hr style=\"height: 0.5px; border: 0; background-color: Gray\">\n",
    "\n",
    "<p style=\"text-indent: 1vw; font-family: Verdana; font-size: 14px; font-style: normal; font-weight: normal; letter-spacing: 2px; color: #00008B\">\n",
    "<a href=\"#part1\">0 Импорт библиотек</a></p>\n",
    "<hr style=\"height: 0.5px; border: 0; background-color: #4682B4\">\n",
    "\n",
    "<p style=\"text-indent: 1vw; font-family: Verdana; font-size: 14px; font-style: normal; font-weight: normal; letter-spacing: 2px; color: #00008B\">\n",
    "<a href=\"#part2\">1 Загрузка данных</a></p>\n",
    "<hr style=\"height: 0.5px; border: 0; background-color: #4682B4\">\n",
    "\n",
    "<p style=\"text-indent: 1vw; font-family: Verdana; font-size: 14px; font-style: normal; font-weight: normal; letter-spacing: 2px; color: #00008B\">\n",
    "<a href=\"#part3\">2 Первичный анализ данных</a></p>\n",
    "<hr style=\"height: 0.5px; border: 0; background-color: #4682B4\">\n",
    "\n",
    "<p style=\"text-indent: 1vw; font-family: Verdana; font-size: 14px; font-style: normal; font-weight: normal; letter-spacing: 2px; color: #00008B\">\n",
    "<a href=\"#part4\">3 Проверка гипотез по урожайности</a></p>\n",
    "<hr style=\"height: 0.5px; border: 0; background-color: #4682B4\">\n",
    "\n",
    "<p style=\"text-indent: 1vw; font-family: Verdana; font-size: 14px; font-style: normal; font-weight: normal; letter-spacing: 2px; color: #00008B\">\n",
    "<a href=\"#part5\">4 Проверка окупаемости дополнительных затрат</a></p>\n",
    "\n",
    "<p style=\"text-indent: 1vw; font-family: Verdana; font-size: 14px; font-style: normal; font-weight: normal; letter-spacing: 2px; color: #00008B\">\n",
    "<a href=\"#part6\">4.1 Загрузка затрат и объединение датасетов</a></p>\n",
    "\n",
    "<p style=\"text-indent: 1vw; font-family: Verdana; font-size: 14px; font-style: normal; font-weight: normal; letter-spacing: 2px; color: #00008B\">\n",
    "<a href=\"#part7\">4.2 Проверка гипотезы о себестоимости разных технологий</a></p>\n",
    "\n",
    "<p style=\"text-indent: 1vw; font-family: Verdana; font-size: 14px; font-style: normal; font-weight: normal; letter-spacing: 2px; color: #00008B\">\n",
    "<a href=\"#part8\">4.3 Оценка запаса прочности эффективности интенсивной технологии</a></p>\n",
    "\n",
    "<hr style=\"height: 0.5px; border: 0; background-color: #4682B4\">"
   ]
  },
  {
   "cell_type": "markdown",
   "metadata": {},
   "source": [
    "<p id=\"part1\"></p>\n",
    "\n",
    "<p style=\"font-family: Verdana; font-size: 16px; font-style: normal; font-weight: bold; letter-spacing: 3px; color: #00008B\">0 ИМПОРТ БИБЛИОТЕК</p>\n",
    "<hr style=\"height: 0.5px; border: 0; background-color: Gray\">"
   ]
  },
  {
   "cell_type": "code",
   "execution_count": 1,
   "metadata": {},
   "outputs": [],
   "source": [
    "import pandas as pd\n",
    "import seaborn as sns\n",
    "import matplotlib.pyplot as plt\n",
    "import scipy\n",
    "from scipy.stats import mannwhitneyu\n",
    "from scipy.stats import norm\n",
    "import numpy as np\n",
    "from tqdm.auto import tqdm"
   ]
  },
  {
   "cell_type": "markdown",
   "metadata": {},
   "source": [
    "1. Библиотека pandas потребуется для работы с данными в табличном представлении.\n",
    "2. Библиотека seaborn потребуется для работы с графиками.\n",
    "3. Библиотека matplotlib потребуется для работы с графиками.\n",
    "4. Библиотека scipy потребуется для проверки гипотез.\n",
    "5. Библиотека tqdm.auto потребуется отображения прогресса выполнения бутстрапа.\n",
    "4. Библиотека numpy потребуется для выполнения математических операций в статистических методах."
   ]
  },
  {
   "cell_type": "markdown",
   "metadata": {},
   "source": [
    "<p id=\"part2\"></p>\n",
    "\n",
    "<p style=\"font-family: Verdana; font-size: 16px; font-style: normal; font-weight: bold; letter-spacing: 3px; color: #00008B\">1 ЗАГРУЗКА ДАННЫХ</p>\n",
    "<hr style=\"height: 0.5px; border: 0; background-color: Gray\">"
   ]
  },
  {
   "cell_type": "code",
   "execution_count": 2,
   "metadata": {},
   "outputs": [
    {
     "data": {
      "text/html": [
       "<div>\n",
       "<style scoped>\n",
       "    .dataframe tbody tr th:only-of-type {\n",
       "        vertical-align: middle;\n",
       "    }\n",
       "\n",
       "    .dataframe tbody tr th {\n",
       "        vertical-align: top;\n",
       "    }\n",
       "\n",
       "    .dataframe thead th {\n",
       "        text-align: right;\n",
       "    }\n",
       "</style>\n",
       "<table border=\"1\" class=\"dataframe\">\n",
       "  <thead>\n",
       "    <tr style=\"text-align: right;\">\n",
       "      <th></th>\n",
       "      <th>Регион</th>\n",
       "      <th>Код ПУ</th>\n",
       "      <th>Культура</th>\n",
       "      <th>Площадь поля\\n(ГА)</th>\n",
       "      <th>Урожайность</th>\n",
       "      <th>Технология</th>\n",
       "    </tr>\n",
       "  </thead>\n",
       "  <tbody>\n",
       "    <tr>\n",
       "      <th>0</th>\n",
       "      <td>Белгород Центр</td>\n",
       "      <td>3155</td>\n",
       "      <td>Сахарная свекла</td>\n",
       "      <td>127.0</td>\n",
       "      <td>425.807874</td>\n",
       "      <td>стандарт</td>\n",
       "    </tr>\n",
       "    <tr>\n",
       "      <th>1</th>\n",
       "      <td>Белгород Центр</td>\n",
       "      <td>3155</td>\n",
       "      <td>Сахарная свекла</td>\n",
       "      <td>149.0</td>\n",
       "      <td>421.832215</td>\n",
       "      <td>интенсив</td>\n",
       "    </tr>\n",
       "  </tbody>\n",
       "</table>\n",
       "</div>"
      ],
      "text/plain": [
       "           Регион  Код ПУ         Культура  Площадь поля\\n(ГА)  Урожайность  \\\n",
       "0  Белгород Центр    3155  Сахарная свекла               127.0   425.807874   \n",
       "1  Белгород Центр    3155  Сахарная свекла               149.0   421.832215   \n",
       "\n",
       "  Технология  \n",
       "0   стандарт  \n",
       "1   интенсив  "
      ]
     },
     "execution_count": 2,
     "metadata": {},
     "output_type": "execute_result"
    }
   ],
   "source": [
    "df = pd.read_excel('Dataset2.xlsx', sheet_name='Лист1', header=1)\n",
    "df = df[['Регион', 'Код ПУ', 'Культура', 'Площадь поля\\n(ГА)', 'Урожайность' ,'Технология']]\n",
    "df.head(2)"
   ]
  },
  {
   "cell_type": "code",
   "execution_count": 3,
   "metadata": {},
   "outputs": [
    {
     "data": {
      "text/plain": [
       "array(['Белгород Центр', 'Белгород Юг', 'Белгород-Курск', 'Орел',\n",
       "       'Тамбов'], dtype=object)"
      ]
     },
     "execution_count": 3,
     "metadata": {},
     "output_type": "execute_result"
    }
   ],
   "source": [
    "#regions = pd.DataFrame(df['Регион'].unique())\n",
    "regions = df['Регион'].unique()\n",
    "regions"
   ]
  },
  {
   "cell_type": "markdown",
   "metadata": {},
   "source": [
    "В представленном датафрейме содержится информация по урожайности сахарной свеклы в 5 регионах предприятия в 2020 году.\n",
    "В настоящее время применяется 2 технологии: стандарт и интенсив.  \n",
    "<strong>Наша задача состоит в том, чтобы определить, является ли интенсивная технология выгодной и дать рекомендации по ее применению</strong>"
   ]
  },
  {
   "cell_type": "markdown",
   "metadata": {},
   "source": [
    "<p id=\"part3\"></p>\n",
    "\n",
    "<p style=\"font-family: Verdana; font-size: 16px; font-style: normal; font-weight: bold; letter-spacing: 3px; color: #00008B\">2 ПЕРВИЧНЫЙ АНАЛИЗ ДАННЫХ</p>\n",
    "<hr style=\"height: 0.5px; border: 0; background-color: Gray\">"
   ]
  },
  {
   "cell_type": "markdown",
   "metadata": {},
   "source": [
    "Мы знаем, что все поля заполнены и выбросов нет, т.к. все значения фактические.  \n",
    "Поэтому проверять набор данных на пропуски и выбросы не будем."
   ]
  },
  {
   "cell_type": "markdown",
   "metadata": {},
   "source": [
    "**Поизучаем данные в разрезе регионов**"
   ]
  },
  {
   "cell_type": "code",
   "execution_count": 4,
   "metadata": {},
   "outputs": [
    {
     "name": "stdout",
     "output_type": "stream",
     "text": [
      "\u001b[1mописание основнох статистик\u001b[0m\n",
      "\u001b[1mБелгород Центр\u001b[0m\n",
      "       Площадь поля\\n(ГА)  Урожайность\n",
      "count          129.000000   129.000000\n",
      "mean           118.274186   323.998367\n",
      "std             65.573292    87.458849\n",
      "min             11.480000   117.071153\n",
      "25%             70.100000   259.285130\n",
      "50%            107.590000   327.778404\n",
      "75%            151.000000   385.042688\n",
      "max            365.320000   581.641929\n",
      "--------------------------------------\n",
      "\u001b[1mБелгород Юг\u001b[0m\n",
      "       Площадь поля\\n(ГА)  Урожайность\n",
      "count          103.000000   103.000000\n",
      "mean           101.113398   316.005595\n",
      "std             55.205285    60.507763\n",
      "min             15.000000   140.453846\n",
      "25%             65.300000   281.768844\n",
      "50%             88.000000   316.465000\n",
      "75%            113.500000   360.558460\n",
      "max            373.000000   481.808108\n",
      "--------------------------------------\n",
      "\u001b[1mБелгород-Курск\u001b[0m\n",
      "       Площадь поля\\n(ГА)  Урожайность\n",
      "count          127.000000   127.000000\n",
      "mean           123.708661   442.087138\n",
      "std             54.632298   104.452765\n",
      "min              6.600000    42.272043\n",
      "25%             89.000000   388.319051\n",
      "50%            120.000000   446.134363\n",
      "75%            154.500000   494.355278\n",
      "max            277.000000   739.927143\n",
      "--------------------------------------\n",
      "\u001b[1mОрел\u001b[0m\n",
      "       Площадь поля\\n(ГА)  Урожайность\n",
      "count           62.000000    62.000000\n",
      "mean           119.870968   392.301563\n",
      "std            108.168279   165.105019\n",
      "min              6.000000    95.340541\n",
      "25%             43.000000   253.776861\n",
      "50%             87.000000   439.359407\n",
      "75%            143.500000   506.256773\n",
      "max            580.000000   912.914286\n",
      "--------------------------------------\n",
      "\u001b[1mТамбов\u001b[0m\n",
      "       Площадь поля\\n(ГА)  Урожайность\n",
      "count          259.000000   259.000000\n",
      "mean           135.015444   343.782936\n",
      "std             72.313967   112.122044\n",
      "min             14.000000   119.279245\n",
      "25%             84.000000   267.180009\n",
      "50%            128.000000   327.757317\n",
      "75%            167.500000   411.516253\n",
      "max            495.000000   814.041333\n",
      "--------------------------------------\n"
     ]
    }
   ],
   "source": [
    "print('\\033[1m' +'описание основнох статистик' + '\\033[0m')\n",
    "\n",
    "for region in regions:\n",
    "    df_region = df[df['Регион'] == region] \n",
    "    print('\\033[1m' + region + '\\033[0m')\n",
    "    print(df_region[['Площадь поля\\n(ГА)', 'Урожайность']].describe())\n",
    "    print('--------------------------------------') "
   ]
  },
  {
   "cell_type": "markdown",
   "metadata": {},
   "source": [
    "Для каждого региона определим размер выборки, среднюю урожайность по технологиям.  \n",
    "Построим графики распределения урожайности для интенсивной и стандартной технологий, и при помощи теста Шапиро-Уилка проверим их на нормальность распределения. "
   ]
  },
  {
   "cell_type": "code",
   "execution_count": 5,
   "metadata": {
    "scrolled": false
   },
   "outputs": [
    {
     "name": "stdout",
     "output_type": "stream",
     "text": [
      "\u001b[1mБелгород Центр\u001b[0m\n",
      "полей интенсив 32\n",
      "полей стандарт 97\n",
      "средняя урожайность интенсив: 317.1410832868302\n",
      "средняя урожайность стандарт: 326.2605633379498\n",
      "\n",
      "\n",
      "гипотеза – данные по стандарту распределены нормально: Statistics=0.986, p-value=0.377\n",
      "Принять гипотезу о нормальности стандарта\n",
      "гипотеза – данные по интенсиву распределены нормально: Statistics=0.981, p-value=0.835\n",
      "Принять гипотезу о нормальности интенсива\n"
     ]
    },
    {
     "data": {
      "image/png": "[encoded data removed]",
      "text/plain": [
       "<Figure size 432x288 with 1 Axes>"
      ]
     },
     "metadata": {
      "needs_background": "light"
     },
     "output_type": "display_data"
    },
    {
     "name": "stdout",
     "output_type": "stream",
     "text": [
      "\u001b[1mБелгород Юг\u001b[0m\n",
      "полей интенсив 0\n",
      "полей стандарт 103\n",
      "средняя урожайность интенсив: nan\n",
      "средняя урожайность стандарт: 316.005595181724\n",
      "\n",
      "\n",
      "гипотеза – данные по стандарту распределены нормально: Statistics=0.989, p-value=0.572\n",
      "Принять гипотезу о нормальности стандарта\n",
      "**по интенсиву нет данных**\n"
     ]
    },
    {
     "name": "stderr",
     "output_type": "stream",
     "text": [
      "C:\\Users\\Dmitry\\anaconda3\\lib\\site-packages\\seaborn\\distributions.py:200: RuntimeWarning: Mean of empty slice.\n",
      "  line, = ax.plot(a.mean(), 0)\n",
      "C:\\Users\\Dmitry\\anaconda3\\lib\\site-packages\\numpy\\core\\_methods.py:161: RuntimeWarning: invalid value encountered in double_scalars\n",
      "  ret = ret.dtype.type(ret / rcount)\n",
      "C:\\Users\\Dmitry\\anaconda3\\lib\\site-packages\\numpy\\lib\\histograms.py:908: RuntimeWarning: invalid value encountered in true_divide\n",
      "  return n/db/n.sum(), bin_edges\n"
     ]
    },
    {
     "data": {
      "image/png": "[encoded data removed]",
      "text/plain": [
       "<Figure size 432x288 with 1 Axes>"
      ]
     },
     "metadata": {
      "needs_background": "light"
     },
     "output_type": "display_data"
    },
    {
     "name": "stdout",
     "output_type": "stream",
     "text": [
      "\u001b[1mБелгород-Курск\u001b[0m\n",
      "полей интенсив 39\n",
      "полей стандарт 88\n",
      "средняя урожайность интенсив: 424.2029736576615\n",
      "средняя урожайность стандарт: 450.0130742864169\n",
      "\n",
      "\n",
      "гипотеза – данные по стандарту распределены нормально: Statistics=0.975, p-value=0.088\n",
      "Принять гипотезу о нормальности стандарта\n",
      "гипотеза – данные по интенсиву распределены нормально: Statistics=0.955, p-value=0.118\n",
      "Принять гипотезу о нормальности интенсива\n"
     ]
    },
    {
     "data": {
      "image/png": "[encoded data removed]",
      "text/plain": [
       "<Figure size 432x288 with 1 Axes>"
      ]
     },
     "metadata": {
      "needs_background": "light"
     },
     "output_type": "display_data"
    },
    {
     "name": "stdout",
     "output_type": "stream",
     "text": [
      "\u001b[1mОрел\u001b[0m\n",
      "полей интенсив 14\n",
      "полей стандарт 48\n",
      "средняя урожайность интенсив: 439.0575173577843\n",
      "средняя урожайность стандарт: 378.6644091793376\n",
      "\n",
      "\n",
      "гипотеза – данные по стандарту распределены нормально: Statistics=0.924, p-value=0.004\n",
      "Отклонить гипотезу о нормальности стандарта\n",
      "гипотеза – данные по интенсиву распределены нормально: Statistics=0.953, p-value=0.612\n",
      "Принять гипотезу о нормальности интенсива\n"
     ]
    },
    {
     "data": {
      "image/png": "[encoded data removed]",
      "text/plain": [
       "<Figure size 432x288 with 1 Axes>"
      ]
     },
     "metadata": {
      "needs_background": "light"
     },
     "output_type": "display_data"
    },
    {
     "name": "stdout",
     "output_type": "stream",
     "text": [
      "\u001b[1mТамбов\u001b[0m\n",
      "полей интенсив 32\n",
      "полей стандарт 227\n",
      "средняя урожайность интенсив: 390.56194950178156\n",
      "средняя урожайность стандарт: 337.1885381545866\n",
      "\n",
      "\n",
      "гипотеза – данные по стандарту распределены нормально: Statistics=0.964, p-value=0.000\n",
      "Отклонить гипотезу о нормальности стандарта\n",
      "гипотеза – данные по интенсиву распределены нормально: Statistics=0.972, p-value=0.550\n",
      "Принять гипотезу о нормальности интенсива\n"
     ]
    },
    {
     "data": {
      "image/png": "[encoded data removed]",
      "text/plain": [
       "<Figure size 432x288 with 1 Axes>"
      ]
     },
     "metadata": {
      "needs_background": "light"
     },
     "output_type": "display_data"
    }
   ],
   "source": [
    "for region in regions:\n",
    "    df_i = df[(df['Технология'] == 'интенсив') & (df['Регион'] == region)]\n",
    "    df_s = df[(df['Технология'] == 'стандарт') & (df['Регион'] == region)]\n",
    "    \n",
    "    print('\\033[1m' + region + '\\033[0m')\n",
    "    print('полей интенсив', len(df_i))\n",
    "    print('полей стандарт', len(df_s))\n",
    "    print('средняя урожайность интенсив:', df_i['Урожайность'].mean())\n",
    "    print('средняя урожайность стандарт:', df_s['Урожайность'].mean())\n",
    "    print('\\n')\n",
    "    \n",
    "    stat, p = scipy.stats.shapiro(df_s['Урожайность']) # тест Шапиро-Уилксона на нормальность распределения\n",
    "    print('гипотеза – данные по стандарту распределены нормально: Statistics=%.3f, p-value=%.3f' % (stat, p))\n",
    "    alpha = 0.05\n",
    "    if p > alpha:\n",
    "        print('Принять гипотезу о нормальности стандарта')\n",
    "    else:\n",
    "        print('Отклонить гипотезу о нормальности стандарта')\n",
    "        \n",
    "    while True:\n",
    "        try:    \n",
    "            stat, p = scipy.stats.shapiro(df_i['Урожайность'])\n",
    "            print('гипотеза – данные по интенсиву распределены нормально: Statistics=%.3f, p-value=%.3f' % (stat, p))\n",
    "            alpha = 0.05\n",
    "            if p > alpha:\n",
    "                print('Принять гипотезу о нормальности интенсива')\n",
    "            else:\n",
    "                print('Отклонить гипотезу о нормальности интенсива')\n",
    "            break\n",
    "        except ValueError:\n",
    "            print('**по интенсиву нет данных**')\n",
    "            break\n",
    "        \n",
    "    sns.distplot(df_s['Урожайность'], 50)\n",
    "    sns.distplot(df_i['Урожайность'], 10)\n",
    "    plt.title('Плотность распределения урожайности')\n",
    "    plt.legend(['стандарт', 'интенсив'])\n",
    "    plt.show()"
   ]
  },
  {
   "cell_type": "markdown",
   "metadata": {},
   "source": [
    "Видим, что интенсив отсутствует в зоне Белгород-Юг и не во всех регионах урожайность по интенсивной технологии выше стандарта.  \n",
    "Также, по части регионов распределение урожайности ненормальное, выборки небольшие."
   ]
  },
  {
   "cell_type": "markdown",
   "metadata": {},
   "source": [
    "Проверим на сколько значима разница в урожайности.  \n",
    "Анализ будем проводить на уровне производственного отделения, как наименьшей обобщающей группировки с однородными полями с группировкой по регионам.  \n",
    "Посмотрим на графиках средние урожайности."
   ]
  },
  {
   "cell_type": "code",
   "execution_count": 6,
   "metadata": {},
   "outputs": [
    {
     "data": {
      "image/png": "[encoded data removed]",
      "text/plain": [
       "<Figure size 432x288 with 1 Axes>"
      ]
     },
     "metadata": {
      "needs_background": "light"
     },
     "output_type": "display_data"
    },
    {
     "data": {
      "image/png": "[encoded data removed]",
      "text/plain": [
       "<Figure size 432x288 with 1 Axes>"
      ]
     },
     "metadata": {
      "needs_background": "light"
     },
     "output_type": "display_data"
    },
    {
     "data": {
      "image/png": "[encoded data removed]",
      "text/plain": [
       "<Figure size 432x288 with 1 Axes>"
      ]
     },
     "metadata": {
      "needs_background": "light"
     },
     "output_type": "display_data"
    },
    {
     "data": {
      "image/png": "[encoded data removed]",
      "text/plain": [
       "<Figure size 432x288 with 1 Axes>"
      ]
     },
     "metadata": {
      "needs_background": "light"
     },
     "output_type": "display_data"
    },
    {
     "data": {
      "image/png": "[encoded data removed]",
      "text/plain": [
       "<Figure size 432x288 with 1 Axes>"
      ]
     },
     "metadata": {
      "needs_background": "light"
     },
     "output_type": "display_data"
    }
   ],
   "source": [
    "for region in regions:\n",
    "    df_region_plot = df[df['Регион'] == region].groupby(['Код ПУ', 'Технология']).mean()[['Урожайность']].unstack()\n",
    "    df_region_plot.plot(kind='bar', title=region)"
   ]
  },
  {
   "cell_type": "markdown",
   "metadata": {},
   "source": [
    "**для более детального изучения урожайности, создадим отдельный датасет, с возможностью выбора регина**"
   ]
  },
  {
   "cell_type": "code",
   "execution_count": 7,
   "metadata": {},
   "outputs": [
    {
     "data": {
      "text/html": [
       "<div>\n",
       "<style scoped>\n",
       "    .dataframe tbody tr th:only-of-type {\n",
       "        vertical-align: middle;\n",
       "    }\n",
       "\n",
       "    .dataframe tbody tr th {\n",
       "        vertical-align: top;\n",
       "    }\n",
       "\n",
       "    .dataframe thead th {\n",
       "        text-align: right;\n",
       "    }\n",
       "</style>\n",
       "<table border=\"1\" class=\"dataframe\">\n",
       "  <thead>\n",
       "    <tr style=\"text-align: right;\">\n",
       "      <th></th>\n",
       "      <th>Регион</th>\n",
       "      <th>Код ПУ</th>\n",
       "      <th>Культура</th>\n",
       "      <th>Площадь поля\\n(ГА)</th>\n",
       "      <th>Урожайность</th>\n",
       "      <th>Технология</th>\n",
       "    </tr>\n",
       "  </thead>\n",
       "  <tbody>\n",
       "    <tr>\n",
       "      <th>0</th>\n",
       "      <td>Белгород Центр</td>\n",
       "      <td>3155</td>\n",
       "      <td>Сахарная свекла</td>\n",
       "      <td>127.0</td>\n",
       "      <td>425.807874</td>\n",
       "      <td>стандарт</td>\n",
       "    </tr>\n",
       "    <tr>\n",
       "      <th>1</th>\n",
       "      <td>Белгород Центр</td>\n",
       "      <td>3155</td>\n",
       "      <td>Сахарная свекла</td>\n",
       "      <td>149.0</td>\n",
       "      <td>421.832215</td>\n",
       "      <td>интенсив</td>\n",
       "    </tr>\n",
       "  </tbody>\n",
       "</table>\n",
       "</div>"
      ],
      "text/plain": [
       "           Регион  Код ПУ         Культура  Площадь поля\\n(ГА)  Урожайность  \\\n",
       "0  Белгород Центр    3155  Сахарная свекла               127.0   425.807874   \n",
       "1  Белгород Центр    3155  Сахарная свекла               149.0   421.832215   \n",
       "\n",
       "  Технология  \n",
       "0   стандарт  \n",
       "1   интенсив  "
      ]
     },
     "execution_count": 7,
     "metadata": {},
     "output_type": "execute_result"
    }
   ],
   "source": [
    "i = 0\n",
    "df_region = df[df['Регион'] == regions[i]]\n",
    "df_region.head(2)"
   ]
  },
  {
   "cell_type": "code",
   "execution_count": 8,
   "metadata": {},
   "outputs": [
    {
     "data": {
      "text/html": [
       "<style  type=\"text/css\" >\n",
       "    #T_f8f62c34_62ef_11eb_a2d2_94de80aece86row0_col3 {\n",
       "            width:  10em;\n",
       "             height:  80%;\n",
       "            background:  linear-gradient(90deg,#d65f5f 83.4%, transparent 83.4%);\n",
       "        }    #T_f8f62c34_62ef_11eb_a2d2_94de80aece86row0_col4 {\n",
       "            width:  10em;\n",
       "             height:  80%;\n",
       "            background:  linear-gradient(90deg,#d65f5f 93.6%, transparent 93.6%);\n",
       "        }    #T_f8f62c34_62ef_11eb_a2d2_94de80aece86row1_col3 {\n",
       "            width:  10em;\n",
       "             height:  80%;\n",
       "            background:  linear-gradient(90deg,#d65f5f 100.0%, transparent 100.0%);\n",
       "        }    #T_f8f62c34_62ef_11eb_a2d2_94de80aece86row1_col4 {\n",
       "            width:  10em;\n",
       "             height:  80%;\n",
       "            background:  linear-gradient(90deg,#d65f5f 100.0%, transparent 100.0%);\n",
       "        }    #T_f8f62c34_62ef_11eb_a2d2_94de80aece86row2_col3 {\n",
       "            width:  10em;\n",
       "             height:  80%;\n",
       "        }    #T_f8f62c34_62ef_11eb_a2d2_94de80aece86row2_col4 {\n",
       "            width:  10em;\n",
       "             height:  80%;\n",
       "        }    #T_f8f62c34_62ef_11eb_a2d2_94de80aece86row3_col3 {\n",
       "            width:  10em;\n",
       "             height:  80%;\n",
       "            background:  linear-gradient(90deg,#d65f5f 17.3%, transparent 17.3%);\n",
       "        }    #T_f8f62c34_62ef_11eb_a2d2_94de80aece86row3_col4 {\n",
       "            width:  10em;\n",
       "             height:  80%;\n",
       "            background:  linear-gradient(90deg,#d65f5f 23.6%, transparent 23.6%);\n",
       "        }    #T_f8f62c34_62ef_11eb_a2d2_94de80aece86row4_col3 {\n",
       "            width:  10em;\n",
       "             height:  80%;\n",
       "            background:  linear-gradient(90deg,#d65f5f 18.3%, transparent 18.3%);\n",
       "        }    #T_f8f62c34_62ef_11eb_a2d2_94de80aece86row4_col4 {\n",
       "            width:  10em;\n",
       "             height:  80%;\n",
       "            background:  linear-gradient(90deg,#d65f5f 25.9%, transparent 25.9%);\n",
       "        }    #T_f8f62c34_62ef_11eb_a2d2_94de80aece86row5_col3 {\n",
       "            width:  10em;\n",
       "             height:  80%;\n",
       "            background:  linear-gradient(90deg,#d65f5f 31.3%, transparent 31.3%);\n",
       "        }    #T_f8f62c34_62ef_11eb_a2d2_94de80aece86row5_col4 {\n",
       "            width:  10em;\n",
       "             height:  80%;\n",
       "            background:  linear-gradient(90deg,#d65f5f 37.3%, transparent 37.3%);\n",
       "        }    #T_f8f62c34_62ef_11eb_a2d2_94de80aece86row6_col3 {\n",
       "            width:  10em;\n",
       "             height:  80%;\n",
       "            background:  linear-gradient(90deg,#d65f5f 71.6%, transparent 71.6%);\n",
       "        }    #T_f8f62c34_62ef_11eb_a2d2_94de80aece86row6_col4 {\n",
       "            width:  10em;\n",
       "             height:  80%;\n",
       "            background:  linear-gradient(90deg,#d65f5f 78.9%, transparent 78.9%);\n",
       "        }    #T_f8f62c34_62ef_11eb_a2d2_94de80aece86row7_col3 {\n",
       "            width:  10em;\n",
       "             height:  80%;\n",
       "            background:  linear-gradient(90deg,#d65f5f 47.1%, transparent 47.1%);\n",
       "        }    #T_f8f62c34_62ef_11eb_a2d2_94de80aece86row7_col4 {\n",
       "            width:  10em;\n",
       "             height:  80%;\n",
       "            background:  linear-gradient(90deg,#d65f5f 54.5%, transparent 54.5%);\n",
       "        }</style><table id=\"T_f8f62c34_62ef_11eb_a2d2_94de80aece86\" ><thead>    <tr>        <th class=\"blank level0\" ></th>        <th class=\"col_heading level0 col0\" >Код ПУ</th>        <th class=\"col_heading level0 col1\" >Технология</th>        <th class=\"col_heading level0 col2\" >Код ПУ</th>        <th class=\"col_heading level0 col3\" colspan=2>Урожайность</th>    </tr>    <tr>        <th class=\"blank level1\" ></th>        <th class=\"col_heading level1 col0\" ></th>        <th class=\"col_heading level1 col1\" ></th>        <th class=\"col_heading level1 col2\" >count</th>        <th class=\"col_heading level1 col3\" >mean</th>        <th class=\"col_heading level1 col4\" >median</th>    </tr></thead><tbody>\n",
       "                <tr>\n",
       "                        <th id=\"T_f8f62c34_62ef_11eb_a2d2_94de80aece86level0_row0\" class=\"row_heading level0 row0\" >0</th>\n",
       "                        <td id=\"T_f8f62c34_62ef_11eb_a2d2_94de80aece86row0_col0\" class=\"data row0 col0\" >3155</td>\n",
       "                        <td id=\"T_f8f62c34_62ef_11eb_a2d2_94de80aece86row0_col1\" class=\"data row0 col1\" >интенсив</td>\n",
       "                        <td id=\"T_f8f62c34_62ef_11eb_a2d2_94de80aece86row0_col2\" class=\"data row0 col2\" >12</td>\n",
       "                        <td id=\"T_f8f62c34_62ef_11eb_a2d2_94de80aece86row0_col3\" class=\"data row0 col3\" >391.234123</td>\n",
       "                        <td id=\"T_f8f62c34_62ef_11eb_a2d2_94de80aece86row0_col4\" class=\"data row0 col4\" >395.631577</td>\n",
       "            </tr>\n",
       "            <tr>\n",
       "                        <th id=\"T_f8f62c34_62ef_11eb_a2d2_94de80aece86level0_row1\" class=\"row_heading level0 row1\" >1</th>\n",
       "                        <td id=\"T_f8f62c34_62ef_11eb_a2d2_94de80aece86row1_col0\" class=\"data row1 col0\" >3155</td>\n",
       "                        <td id=\"T_f8f62c34_62ef_11eb_a2d2_94de80aece86row1_col1\" class=\"data row1 col1\" >стандарт</td>\n",
       "                        <td id=\"T_f8f62c34_62ef_11eb_a2d2_94de80aece86row1_col2\" class=\"data row1 col2\" >8</td>\n",
       "                        <td id=\"T_f8f62c34_62ef_11eb_a2d2_94de80aece86row1_col3\" class=\"data row1 col3\" >419.092126</td>\n",
       "                        <td id=\"T_f8f62c34_62ef_11eb_a2d2_94de80aece86row1_col4\" class=\"data row1 col4\" >405.528149</td>\n",
       "            </tr>\n",
       "            <tr>\n",
       "                        <th id=\"T_f8f62c34_62ef_11eb_a2d2_94de80aece86level0_row2\" class=\"row_heading level0 row2\" >2</th>\n",
       "                        <td id=\"T_f8f62c34_62ef_11eb_a2d2_94de80aece86row2_col0\" class=\"data row2 col0\" >3156</td>\n",
       "                        <td id=\"T_f8f62c34_62ef_11eb_a2d2_94de80aece86row2_col1\" class=\"data row2 col1\" >интенсив</td>\n",
       "                        <td id=\"T_f8f62c34_62ef_11eb_a2d2_94de80aece86row2_col2\" class=\"data row2 col2\" >6</td>\n",
       "                        <td id=\"T_f8f62c34_62ef_11eb_a2d2_94de80aece86row2_col3\" class=\"data row2 col3\" >251.164139</td>\n",
       "                        <td id=\"T_f8f62c34_62ef_11eb_a2d2_94de80aece86row2_col4\" class=\"data row2 col4\" >251.832972</td>\n",
       "            </tr>\n",
       "            <tr>\n",
       "                        <th id=\"T_f8f62c34_62ef_11eb_a2d2_94de80aece86level0_row3\" class=\"row_heading level0 row3\" >3</th>\n",
       "                        <td id=\"T_f8f62c34_62ef_11eb_a2d2_94de80aece86row3_col0\" class=\"data row3 col0\" >3156</td>\n",
       "                        <td id=\"T_f8f62c34_62ef_11eb_a2d2_94de80aece86row3_col1\" class=\"data row3 col1\" >стандарт</td>\n",
       "                        <td id=\"T_f8f62c34_62ef_11eb_a2d2_94de80aece86row3_col2\" class=\"data row3 col2\" >33</td>\n",
       "                        <td id=\"T_f8f62c34_62ef_11eb_a2d2_94de80aece86row3_col3\" class=\"data row3 col3\" >280.150003</td>\n",
       "                        <td id=\"T_f8f62c34_62ef_11eb_a2d2_94de80aece86row3_col4\" class=\"data row3 col4\" >288.142025</td>\n",
       "            </tr>\n",
       "            <tr>\n",
       "                        <th id=\"T_f8f62c34_62ef_11eb_a2d2_94de80aece86level0_row4\" class=\"row_heading level0 row4\" >4</th>\n",
       "                        <td id=\"T_f8f62c34_62ef_11eb_a2d2_94de80aece86row4_col0\" class=\"data row4 col0\" >3157</td>\n",
       "                        <td id=\"T_f8f62c34_62ef_11eb_a2d2_94de80aece86row4_col1\" class=\"data row4 col1\" >интенсив</td>\n",
       "                        <td id=\"T_f8f62c34_62ef_11eb_a2d2_94de80aece86row4_col2\" class=\"data row4 col2\" >14</td>\n",
       "                        <td id=\"T_f8f62c34_62ef_11eb_a2d2_94de80aece86row4_col3\" class=\"data row4 col3\" >281.908597</td>\n",
       "                        <td id=\"T_f8f62c34_62ef_11eb_a2d2_94de80aece86row4_col4\" class=\"data row4 col4\" >291.593170</td>\n",
       "            </tr>\n",
       "            <tr>\n",
       "                        <th id=\"T_f8f62c34_62ef_11eb_a2d2_94de80aece86level0_row5\" class=\"row_heading level0 row5\" >5</th>\n",
       "                        <td id=\"T_f8f62c34_62ef_11eb_a2d2_94de80aece86row5_col0\" class=\"data row5 col0\" >3157</td>\n",
       "                        <td id=\"T_f8f62c34_62ef_11eb_a2d2_94de80aece86row5_col1\" class=\"data row5 col1\" >стандарт</td>\n",
       "                        <td id=\"T_f8f62c34_62ef_11eb_a2d2_94de80aece86row5_col2\" class=\"data row5 col2\" >7</td>\n",
       "                        <td id=\"T_f8f62c34_62ef_11eb_a2d2_94de80aece86row5_col3\" class=\"data row5 col3\" >303.658383</td>\n",
       "                        <td id=\"T_f8f62c34_62ef_11eb_a2d2_94de80aece86row5_col4\" class=\"data row5 col4\" >309.138776</td>\n",
       "            </tr>\n",
       "            <tr>\n",
       "                        <th id=\"T_f8f62c34_62ef_11eb_a2d2_94de80aece86level0_row6\" class=\"row_heading level0 row6\" >6</th>\n",
       "                        <td id=\"T_f8f62c34_62ef_11eb_a2d2_94de80aece86row6_col0\" class=\"data row6 col0\" >3158</td>\n",
       "                        <td id=\"T_f8f62c34_62ef_11eb_a2d2_94de80aece86row6_col1\" class=\"data row6 col1\" >стандарт</td>\n",
       "                        <td id=\"T_f8f62c34_62ef_11eb_a2d2_94de80aece86row6_col2\" class=\"data row6 col2\" >18</td>\n",
       "                        <td id=\"T_f8f62c34_62ef_11eb_a2d2_94de80aece86row6_col3\" class=\"data row6 col3\" >371.328000</td>\n",
       "                        <td id=\"T_f8f62c34_62ef_11eb_a2d2_94de80aece86row6_col4\" class=\"data row6 col4\" >373.136041</td>\n",
       "            </tr>\n",
       "            <tr>\n",
       "                        <th id=\"T_f8f62c34_62ef_11eb_a2d2_94de80aece86level0_row7\" class=\"row_heading level0 row7\" >7</th>\n",
       "                        <td id=\"T_f8f62c34_62ef_11eb_a2d2_94de80aece86row7_col0\" class=\"data row7 col0\" >3159</td>\n",
       "                        <td id=\"T_f8f62c34_62ef_11eb_a2d2_94de80aece86row7_col1\" class=\"data row7 col1\" >стандарт</td>\n",
       "                        <td id=\"T_f8f62c34_62ef_11eb_a2d2_94de80aece86row7_col2\" class=\"data row7 col2\" >31</td>\n",
       "                        <td id=\"T_f8f62c34_62ef_11eb_a2d2_94de80aece86row7_col3\" class=\"data row7 col3\" >330.324995</td>\n",
       "                        <td id=\"T_f8f62c34_62ef_11eb_a2d2_94de80aece86row7_col4\" class=\"data row7 col4\" >335.527711</td>\n",
       "            </tr>\n",
       "    </tbody></table>"
      ],
      "text/plain": [
       "<pandas.io.formats.style.Styler at 0x3351a30ec8>"
      ]
     },
     "execution_count": 8,
     "metadata": {},
     "output_type": "execute_result"
    }
   ],
   "source": [
    "df_region_group = df_region.groupby(['Код ПУ', 'Технология']).agg({'Код ПУ': 'count', 'Урожайность': {'mean', 'median'}}).reset_index()\n",
    "#df_region_group = df_region_group.rename({'Код поля': 'Количество полей', 'Урожайность': 'Средняя Урожайность'}, axis=1).style.bar('Средняя Урожайность')\n",
    "df_region_group.style.bar('Урожайность')"
   ]
  },
  {
   "cell_type": "markdown",
   "metadata": {},
   "source": [
    "В части ПУ выборка с интенсивной технологией очень мала. Отбросим их из анализа."
   ]
  },
  {
   "cell_type": "code",
   "execution_count": 9,
   "metadata": {},
   "outputs": [],
   "source": [
    "min_ratio_tech = 0.15\n",
    "    \n",
    "df_region_ratio_tech = df.pivot_table(index = ['Код ПУ'], columns = 'Технология', values = 'Культура', aggfunc = 'count', fill_value = 0).reset_index()\n",
    "#добавление столбца с долей интенсива в ПУ\n",
    "df_region_ratio_tech['Доля интенсива'] = df_region_ratio_tech['интенсив'] / df_region_ratio_tech['стандарт']\n",
    "# фильтр по доли\n",
    "df_region_ratio_tech = df_region_ratio_tech[df_region_ratio_tech['Доля интенсива'] < min_ratio_tech ]\n",
    "# оставляем только столбец с кодами ПУ\n",
    "region_ratio_tech = df_region_ratio_tech['Код ПУ']\n",
    "#region_ratio_tech"
   ]
  },
  {
   "cell_type": "markdown",
   "metadata": {},
   "source": [
    "удаляем ПУ, где доля интенсива мала"
   ]
  },
  {
   "cell_type": "code",
   "execution_count": 10,
   "metadata": {},
   "outputs": [],
   "source": [
    "df_region_filter = df.loc[~df['Код ПУ'].isin(region_ratio_tech)] # удаляем ПУ, где доля интенсива мала"
   ]
  },
  {
   "cell_type": "markdown",
   "metadata": {},
   "source": [
    "Оставшиеся ПУ"
   ]
  },
  {
   "cell_type": "code",
   "execution_count": 11,
   "metadata": {},
   "outputs": [
    {
     "data": {
      "text/plain": [
       "array([3155, 3156, 3157, 3151, 3152, 3153, 3154, 4651, 5751, 6851, 6854,\n",
       "       6855, 6857], dtype=int64)"
      ]
     },
     "execution_count": 11,
     "metadata": {},
     "output_type": "execute_result"
    }
   ],
   "source": [
    "filter_area = df_region_filter['Код ПУ'].unique()\n",
    "filter_area"
   ]
  },
  {
   "cell_type": "markdown",
   "metadata": {},
   "source": [
    "<p id=\"part4\"></p>\n",
    "\n",
    "<p style=\"font-family: Verdana; font-size: 16px; font-style: normal; font-weight: bold; letter-spacing: 3px; color: #00008B\">3 ПРОВЕРКА ГИПОТЕЗ ПО УРОЖАЙНОСТИ</p>\n",
    "<hr style=\"height: 0.5px; border: 0; background-color: Gray\">"
   ]
  },
  {
   "cell_type": "markdown",
   "metadata": {},
   "source": [
    "Изучамые выборки небольшие и их распредедние не везде является нормальным, поэтому для проверки гипотезы об отсутствии разности урожайности при интенсивной и стандартной технологиях воспользуемся <strong>тестом Манна Уитни</strong> и <strong>Бутстрапом</strong>, основанном на многократной генерации выборок методом Монте-Карло на базе имеющейся выборки."
   ]
  },
  {
   "cell_type": "code",
   "execution_count": 12,
   "metadata": {
    "scrolled": false
   },
   "outputs": [
    {
     "name": "stdout",
     "output_type": "stream",
     "text": [
      "3158: недостаточно данных для анализа\n",
      "3159: недостаточно данных для анализа\n",
      "3160: недостаточно данных для анализа\n",
      "3161: недостаточно данных для анализа\n",
      "3162: недостаточно данных для анализа\n",
      "5752: недостаточно данных для анализа\n",
      "5753: недостаточно данных для анализа\n",
      "6852: недостаточно данных для анализа\n",
      "6853: недостаточно данных для анализа\n",
      "6856: недостаточно данных для анализа\n",
      "6858: недостаточно данных для анализа\n",
      "\n",
      "\n",
      "\u001b[1mкритерий Манна-Уитни\u001b[0m \n",
      "\n",
      "3155: урожайность по технологиям не различается. statistic - 36.0 pvalue - 0.18747\n",
      "3156: урожайность по технологиям не различается. statistic - 81.0 pvalue - 0.24788\n",
      "3157: урожайность по технологиям не различается. statistic - 40.0 pvalue - 0.26299\n",
      "3151: урожайность по технологиям не различается. statistic - 9.0 pvalue - 0.17627\n",
      "3152: урожайность по технологиям не различается. statistic - 96.0 pvalue - 0.35973\n",
      "3153: урожайность по технологиям не различается. statistic - 72.0 pvalue - 0.4027\n",
      "3154: урожайность по технологиям не различается. statistic - 56.0 pvalue - 0.35231\n",
      "4651: урожайность по технологиям различается. statistic - 49.0 pvalue - 0.01561\n",
      "5751: урожайность по технологиям различается. statistic - 60.0 pvalue - 0.04244\n",
      "6851: урожайность по технологиям не различается. statistic - 35.0 pvalue - 0.19683\n",
      "6854: урожайность по технологиям не различается. statistic - 113.0 pvalue - 0.19042\n",
      "6855: урожайность по технологиям различается. statistic - 20.0 pvalue - 0.00127\n",
      "6857: урожайность по технологиям различается. statistic - 20.0 pvalue - 0.03104\n",
      "\n",
      "\n",
      "\u001b[1mБутстрап\u001b[0m\n"
     ]
    },
    {
     "data": {
      "application/vnd.jupyter.widget-view+json": {
       "model_id": "6f5d976a326445799fd6859e7e696e73",
       "version_major": 2,
       "version_minor": 0
      },
      "text/plain": [
       "HBox(children=(FloatProgress(value=0.0, max=13.0), HTML(value='')))"
      ]
     },
     "metadata": {},
     "output_type": "display_data"
    },
    {
     "name": "stdout",
     "output_type": "stream",
     "text": [
      "3155: урожайность по технологиям не различается. pvalue - 0.17689, доверительный интервал [-68.86, 11.13]\n",
      "3156: урожайность по технологиям не различается. pvalue - 0.2632, доверительный интервал [-82.94, 20.4]\n",
      "3157: урожайность по технологиям не различается. pvalue - 0.41956, доверительный интервал [-74.41, 31.64]\n",
      "3151: урожайность по технологиям не различается. pvalue - 0.15056, доверительный интервал [-23.16, 160.97]\n",
      "3152: урожайность по технологиям не различается. pvalue - 0.89334, доверительный интервал [-64.72, 51.39]\n",
      "3153: урожайность по технологиям не различается. pvalue - 0.27791, доверительный интервал [-139.82, 30.24]\n",
      "3154: урожайность по технологиям не различается. pvalue - 0.65856, доверительный интервал [-102.27, 58.88]\n",
      "4651: урожайность интенсива ниже стандарта. pvalue - 0.00747, доверительный интервал [-115.76, -18.74]\n",
      "5751: урожайность интенсива выше стандарта. pvalue - 0.03169, доверительный интервал [8.85, 230.82]\n",
      "6851: урожайность по технологиям не различается. pvalue - 0.21012, доверительный интервал [-23.36, 101.21]\n",
      "6854: урожайность по технологиям не различается. pvalue - 0.50296, доверительный интервал [-33.51, 64.79]\n",
      "6855: урожайность интенсива выше стандарта. pvalue - 0.00208, доверительный интервал [38.74, 165.51]\n",
      "6857: урожайность интенсива выше стандарта. pvalue - 0.01032, доверительный интервал [25.28, 150.9]\n",
      "\n"
     ]
    }
   ],
   "source": [
    "for area in region_ratio_tech:\n",
    "    print(f'{area}: недостаточно данных для анализа')\n",
    "print('\\n')\n",
    "\n",
    "alpha = 0.05\n",
    "print('\\033[1m' + 'критерий Манна-Уитни'  + '\\033[0m \\n')\n",
    "for area in filter_area:\n",
    "    df_region_filter_area_i = df_region_filter[(df_region_filter['Технология'] == 'интенсив') & \n",
    "                                               (df_region_filter['Код ПУ'] == area)]\n",
    "    df_region_filter_area_s = df_region_filter[(df_region_filter['Технология'] == 'стандарт') & \n",
    "                                               (df_region_filter['Код ПУ'] == area)]\n",
    "    result_mw_area = mannwhitneyu(df_region_filter_area_i['Урожайность'], df_region_filter_area_s['Урожайность'])\n",
    "    if result_mw_area.pvalue < alpha and result_mw_area.statistic > 0:\n",
    "        print(f'{area}: урожайность по технологиям различается. statistic - {result_mw_area.statistic} pvalue - {round(result_mw_area.pvalue, 5)}')\n",
    "    else:\n",
    "        print(f'{area}: урожайность по технологиям не различается. statistic - {result_mw_area.statistic} pvalue - {round(result_mw_area.pvalue, 5)}')\n",
    "\n",
    "print('\\n')       \n",
    "print('\\033[1m' + 'Бутстрап' + '\\033[0m')\n",
    "filter_area2 = []\n",
    "for area in tqdm(filter_area):\n",
    "    means = [] \n",
    "    for i in range(3000):\n",
    "        standart = df_region_filter[(df_region_filter['Технология'] == 'стандарт') & \n",
    "                                    (df_region_filter['Код ПУ'] == area)].sample(frac=1, replace=True).Урожайность.mean()\n",
    "        intensive = df_region_filter[(df_region_filter['Технология'] == 'интенсив') & \n",
    "                                     (df_region_filter['Код ПУ'] == area)].sample(frac=1, replace=True).Урожайность.mean()\n",
    "        means.append(intensive - standart)\n",
    "#расчет доверительного интервала\n",
    "    pd_means = pd.DataFrame(means)\n",
    "    confidence_interval = pd_means.quantile([0.025, 0.975])\n",
    "#расчет p_value\n",
    "    p_1 = norm.cdf(x = 0, loc = np.mean(means), scale = np.std(means))\n",
    "    p_2 = norm.cdf(x = 0, loc = -np.mean(means), scale = np.std(means))\n",
    "    p_value = min(p_1, p_2) * 2\n",
    "    if p_value < alpha and list(confidence_interval[0])[0] > 0:\n",
    "        filter_area2.append(area)\n",
    "        print(f'{area}: урожайность интенсива выше стандарта. pvalue - {round(p_value, 5)}, доверительный интервал {[round(v,2) for v in confidence_interval[0].tolist()]}')\n",
    "    elif p_value < alpha and list(confidence_interval[0])[0] < 0:      \n",
    "        print(f'{area}: урожайность интенсива ниже стандарта. pvalue - {round(p_value, 5)}, доверительный интервал {[round(v,2) for v in confidence_interval[0].tolist()]}')\n",
    "    else:\n",
    "        print(f'{area}: урожайность по технологиям не различается. pvalue - {round(p_value, 5)}, доверительный интервал {[round(v,2) for v in confidence_interval[0].tolist()]}')"
   ]
  },
  {
   "cell_type": "markdown",
   "metadata": {},
   "source": [
    "**В 11 производственных отделения данных для анализа слишком мало.  \n",
    "По остальным ПУ оба теста показали схожие результаты:  \n",
    "В 9 производственных отделениях разницы в урожайности нет.  \n",
    "В 3 производственных отделениях урожайность при интенсивной технологии выше.  \n",
    "В ПУ 4651 урожайность при интенсивной технологии ниже обычной, что может говорить о несоблюдении технологии**"
   ]
  },
  {
   "cell_type": "markdown",
   "metadata": {},
   "source": [
    "<p id=\"part5\"></p>\n",
    "\n",
    "<p style=\"font-family: Verdana; font-size: 16px; font-style: normal; font-weight: bold; letter-spacing: 3px; color: #00008B\">4 ПРОВЕРКА ОКУПАЕМОСТИ ДОПОЛНИТЕЛЬНЫХ ЗАТРАТ</p>\n",
    "<hr style=\"height: 0.5px; border: 0; background-color: Gray\">"
   ]
  },
  {
   "cell_type": "markdown",
   "metadata": {},
   "source": [
    "<p id=\"part6\"></p>\n",
    "\n",
    "<p style=\"font-family: Verdana; font-size: 14px; font-style: normal; letter-spacing: 3px; color: #00008B\">4.1 Загрузка затрат и объединение</p>"
   ]
  },
  {
   "cell_type": "markdown",
   "metadata": {},
   "source": [
    "Мы знаем, что интенсивная технология требует больше удобрений и количества тех.операций, что делает ее более дорогой. Поэтому, в ПУ, где урожайность не отличается или ниже стандарта, эффект отрицательный. Предприятие несет убытки.  \n",
    "<strong>Проверим, в каких ПУ есть положительный экономический эффект.</strong>"
   ]
  },
  {
   "cell_type": "markdown",
   "metadata": {},
   "source": [
    "Загрузим информацию по стоимости технологий."
   ]
  },
  {
   "cell_type": "code",
   "execution_count": 13,
   "metadata": {},
   "outputs": [
    {
     "data": {
      "text/html": [
       "<div>\n",
       "<style scoped>\n",
       "    .dataframe tbody tr th:only-of-type {\n",
       "        vertical-align: middle;\n",
       "    }\n",
       "\n",
       "    .dataframe tbody tr th {\n",
       "        vertical-align: top;\n",
       "    }\n",
       "\n",
       "    .dataframe thead th {\n",
       "        text-align: right;\n",
       "    }\n",
       "</style>\n",
       "<table border=\"1\" class=\"dataframe\">\n",
       "  <thead>\n",
       "    <tr style=\"text-align: right;\">\n",
       "      <th></th>\n",
       "      <th>Регион</th>\n",
       "      <th>Технология</th>\n",
       "      <th>Затраты, руб/га</th>\n",
       "    </tr>\n",
       "  </thead>\n",
       "  <tbody>\n",
       "    <tr>\n",
       "      <th>0</th>\n",
       "      <td>Белгород Центр</td>\n",
       "      <td>стандарт</td>\n",
       "      <td>30234.435975</td>\n",
       "    </tr>\n",
       "    <tr>\n",
       "      <th>1</th>\n",
       "      <td>Белгород Центр</td>\n",
       "      <td>интенсив</td>\n",
       "      <td>33234.435975</td>\n",
       "    </tr>\n",
       "    <tr>\n",
       "      <th>2</th>\n",
       "      <td>Белгород Юг</td>\n",
       "      <td>стандарт</td>\n",
       "      <td>31514.240646</td>\n",
       "    </tr>\n",
       "    <tr>\n",
       "      <th>3</th>\n",
       "      <td>Белгород Юг</td>\n",
       "      <td>интенсив</td>\n",
       "      <td>34614.240646</td>\n",
       "    </tr>\n",
       "    <tr>\n",
       "      <th>4</th>\n",
       "      <td>Белгород-Курск</td>\n",
       "      <td>стандарт</td>\n",
       "      <td>33519.541284</td>\n",
       "    </tr>\n",
       "    <tr>\n",
       "      <th>5</th>\n",
       "      <td>Белгород-Курск</td>\n",
       "      <td>интенсив</td>\n",
       "      <td>36719.541284</td>\n",
       "    </tr>\n",
       "    <tr>\n",
       "      <th>6</th>\n",
       "      <td>Орел</td>\n",
       "      <td>стандарт</td>\n",
       "      <td>27072.603447</td>\n",
       "    </tr>\n",
       "    <tr>\n",
       "      <th>7</th>\n",
       "      <td>Орел</td>\n",
       "      <td>интенсив</td>\n",
       "      <td>29872.603447</td>\n",
       "    </tr>\n",
       "    <tr>\n",
       "      <th>8</th>\n",
       "      <td>Тамбов</td>\n",
       "      <td>стандарт</td>\n",
       "      <td>31700.606954</td>\n",
       "    </tr>\n",
       "    <tr>\n",
       "      <th>9</th>\n",
       "      <td>Тамбов</td>\n",
       "      <td>интенсив</td>\n",
       "      <td>34800.606954</td>\n",
       "    </tr>\n",
       "  </tbody>\n",
       "</table>\n",
       "</div>"
      ],
      "text/plain": [
       "           Регион Технология  Затраты, руб/га\n",
       "0  Белгород Центр   стандарт     30234.435975\n",
       "1  Белгород Центр   интенсив     33234.435975\n",
       "2     Белгород Юг   стандарт     31514.240646\n",
       "3     Белгород Юг   интенсив     34614.240646\n",
       "4  Белгород-Курск   стандарт     33519.541284\n",
       "5  Белгород-Курск   интенсив     36719.541284\n",
       "6            Орел   стандарт     27072.603447\n",
       "7            Орел   интенсив     29872.603447\n",
       "8          Тамбов   стандарт     31700.606954\n",
       "9          Тамбов   интенсив     34800.606954"
      ]
     },
     "execution_count": 13,
     "metadata": {},
     "output_type": "execute_result"
    }
   ],
   "source": [
    "df_costs = pd.read_excel('Dataset2.xlsx', sheet_name='Лист4', header=1)\n",
    "df_costs = df_costs[['Регион', 'Технология', 'Затраты, руб/га']]\n",
    "df_costs"
   ]
  },
  {
   "cell_type": "markdown",
   "metadata": {},
   "source": [
    "Дальнейший анализ окупаемости затрат будем проводить только для ПУ с различной продуктивностью технологий.  \n",
    "Добавим к датафрейму по урожайности затраты."
   ]
  },
  {
   "cell_type": "code",
   "execution_count": 14,
   "metadata": {},
   "outputs": [
    {
     "data": {
      "text/html": [
       "<div>\n",
       "<style scoped>\n",
       "    .dataframe tbody tr th:only-of-type {\n",
       "        vertical-align: middle;\n",
       "    }\n",
       "\n",
       "    .dataframe tbody tr th {\n",
       "        vertical-align: top;\n",
       "    }\n",
       "\n",
       "    .dataframe thead th {\n",
       "        text-align: right;\n",
       "    }\n",
       "</style>\n",
       "<table border=\"1\" class=\"dataframe\">\n",
       "  <thead>\n",
       "    <tr style=\"text-align: right;\">\n",
       "      <th></th>\n",
       "      <th>Регион</th>\n",
       "      <th>Код ПУ</th>\n",
       "      <th>Культура</th>\n",
       "      <th>Площадь поля\\n(ГА)</th>\n",
       "      <th>Урожайность</th>\n",
       "      <th>Технология</th>\n",
       "      <th>Затраты, руб/га</th>\n",
       "      <th>Затраты, руб/тн</th>\n",
       "    </tr>\n",
       "  </thead>\n",
       "  <tbody>\n",
       "    <tr>\n",
       "      <th>0</th>\n",
       "      <td>Орел</td>\n",
       "      <td>5751</td>\n",
       "      <td>Сахарная свекла</td>\n",
       "      <td>6.0</td>\n",
       "      <td>543.733333</td>\n",
       "      <td>стандарт</td>\n",
       "      <td>27072.603447</td>\n",
       "      <td>497.902221</td>\n",
       "    </tr>\n",
       "    <tr>\n",
       "      <th>1</th>\n",
       "      <td>Орел</td>\n",
       "      <td>5751</td>\n",
       "      <td>Сахарная свекла</td>\n",
       "      <td>133.0</td>\n",
       "      <td>534.654135</td>\n",
       "      <td>стандарт</td>\n",
       "      <td>27072.603447</td>\n",
       "      <td>506.357319</td>\n",
       "    </tr>\n",
       "  </tbody>\n",
       "</table>\n",
       "</div>"
      ],
      "text/plain": [
       "  Регион  Код ПУ         Культура  Площадь поля\\n(ГА)  Урожайность Технология  \\\n",
       "0   Орел    5751  Сахарная свекла                 6.0   543.733333   стандарт   \n",
       "1   Орел    5751  Сахарная свекла               133.0   534.654135   стандарт   \n",
       "\n",
       "   Затраты, руб/га  Затраты, руб/тн  \n",
       "0     27072.603447       497.902221  \n",
       "1     27072.603447       506.357319  "
      ]
     },
     "execution_count": 14,
     "metadata": {},
     "output_type": "execute_result"
    }
   ],
   "source": [
    "df_region_filter_2 = df_region_filter.loc[df['Код ПУ'].isin(filter_area2)]\n",
    "df_region_filter_costs = df_region_filter_2.merge(df_costs, how='left', \n",
    "                                                left_on=['Регион', 'Технология'], \n",
    "                                                right_on=['Регион', 'Технология'])\n",
    "df_region_filter_costs['Затраты, руб/тн'] = df_region_filter_costs['Затраты, руб/га'] / df_region_filter_costs['Урожайность'] * 10\n",
    "df_region_filter_costs.head(2)"
   ]
  },
  {
   "cell_type": "markdown",
   "metadata": {},
   "source": [
    "Оценим на графиках разность стоимости технологий."
   ]
  },
  {
   "cell_type": "code",
   "execution_count": 15,
   "metadata": {},
   "outputs": [
    {
     "data": {
      "image/png": "[encoded data removed]",
      "text/plain": [
       "<Figure size 576x288 with 1 Axes>"
      ]
     },
     "metadata": {
      "needs_background": "light"
     },
     "output_type": "display_data"
    },
    {
     "data": {
      "image/png": "[encoded data removed]",
      "text/plain": [
       "<Figure size 576x288 with 1 Axes>"
      ]
     },
     "metadata": {
      "needs_background": "light"
     },
     "output_type": "display_data"
    }
   ],
   "source": [
    "regions_cost = df_region_filter_costs['Регион'].unique()\n",
    "\n",
    "for region_ in regions_cost:\n",
    "    df_region_filter_costs_plot = df_region_filter_costs[df_region_filter_costs['Регион'] == region_].groupby(['Код ПУ', 'Технология']).mean()[['Затраты, руб/тн']].unstack()\n",
    "    df_region_filter_costs_plot.plot(kind='bar', title=region_, figsize=(8, 4))"
   ]
  },
  {
   "cell_type": "markdown",
   "metadata": {},
   "source": [
    "<p id=\"part7\"></p>\n",
    "\n",
    "<p style=\"font-family: Verdana; font-size: 14px; font-style: normal; letter-spacing: 3px; color: #00008B\">4.2 Проверка гипотезы о себестоимости разных технологий</p>"
   ]
  },
  {
   "cell_type": "code",
   "execution_count": 16,
   "metadata": {},
   "outputs": [
    {
     "name": "stdout",
     "output_type": "stream",
     "text": [
      "\u001b[1mкритерий Манна-Уитни\u001b[0m \n",
      "\n",
      "5751: различия затрат на 1 тн стат. незначимы. pvalue 0.16161\n",
      "6855: затраты на 1 тн различаются. pvalue 0.01356\n",
      "6857: различия затрат на 1 тн стат. незначимы. pvalue 0.16347\n",
      "\u001b[1mБутстрап\u001b[0m\n"
     ]
    },
    {
     "data": {
      "application/vnd.jupyter.widget-view+json": {
       "model_id": "a6b975b4312d4fefa81b1d0e4caf0a27",
       "version_major": 2,
       "version_minor": 0
      },
      "text/plain": [
       "HBox(children=(FloatProgress(value=0.0, max=3.0), HTML(value='')))"
      ]
     },
     "metadata": {},
     "output_type": "display_data"
    },
    {
     "name": "stdout",
     "output_type": "stream",
     "text": [
      "5751: себестоимость значимо не отличается. pvalue - 0.2673, доверительный интервал [-712.83, 220.91]\n",
      "6855: при интенсиве себестоимость ниже. pvalue - 0.01055, доверительный интервал [-312.78, -42.65]\n",
      "6857: себестоимость значимо не отличается. pvalue - 0.14087, доверительный интервал [-157.03, 15.83]\n",
      "\n"
     ]
    }
   ],
   "source": [
    "filter_area3 = []\n",
    "\n",
    "print('\\033[1m' + 'критерий Манна-Уитни'  + '\\033[0m \\n')\n",
    "for area in filter_area2:\n",
    "    intensive_mw = df_region_filter_costs[(df_region_filter_costs['Технология'] == 'интенсив') & \n",
    "                                          (df_region_filter_costs['Код ПУ'] == area)]\n",
    "    standart_mw = df_region_filter_costs[(df_region_filter_costs['Технология'] == 'стандарт') & \n",
    "                                         (df_region_filter_costs['Код ПУ'] == area)]\n",
    "    result_mw_costs = mannwhitneyu(intensive_mw['Затраты, руб/тн'], standart_mw['Затраты, руб/тн'])\n",
    "    if result_mw_costs.pvalue < alpha:\n",
    "        print(f'{area}: затраты на 1 тн различаются. pvalue {round(result_mw_costs.pvalue, 5)}')\n",
    "    else:\n",
    "        print(f'{area}: различия затрат на 1 тн стат. незначимы. pvalue {round(result_mw_costs.pvalue, 5)}')\n",
    "\n",
    "print('\\033[1m' + 'Бутстрап' + '\\033[0m')\n",
    "for area in tqdm(filter_area2):\n",
    "    means_costs = []\n",
    "    for i in range(3000):\n",
    "        standart = df_region_filter_costs[(df_region_filter_costs['Технология'] == 'стандарт') & \n",
    "                                          (df_region_filter_costs['Код ПУ'] == area)].sample(frac=1, replace=True)['Затраты, руб/тн'].mean()\n",
    "        intensive = df_region_filter_costs[(df_region_filter_costs['Технология'] == 'интенсив') & \n",
    "                                           (df_region_filter_costs['Код ПУ'] == area)].sample(frac=1, replace=True)['Затраты, руб/тн'].mean()\n",
    "        means_costs.append(intensive - standart)\n",
    "#расчет доверительного интервала\n",
    "    pd_means_costs = pd.DataFrame(means_costs)\n",
    "    confidence_interval_costs = pd_means_costs.quantile([0.025, 0.975])\n",
    "#расчет p_value\n",
    "    p_1_costs = norm.cdf(x = 0, loc = np.mean(means_costs), scale = np.std(means_costs))\n",
    "    p_2_costs = norm.cdf(x = 0, loc = -np.mean(means_costs), scale = np.std(means_costs))\n",
    "    p_value_costs = min(p_1_costs, p_2_costs) * 2\n",
    "    if p_value_costs < alpha and confidence_interval_costs[0].tolist()[0] < 0:\n",
    "        filter_area3.append(area) # добавление ПУ, удовлетворяющих условию окупаемости интенсива\n",
    "        print(f'{area}: при интенсиве себестоимость ниже. pvalue - {round(p_value_costs, 5)}, доверительный интервал {[round(v,2) for v in confidence_interval_costs[0].tolist()]}')\n",
    "    elif p_value_costs < alpha and confidence_interval_costs[0].tolist()[0] > 0:\n",
    "        print(f'{area}: при интенсиве себестоимость выше. pvalue - {round(p_value_costs, 5)}, доверительный интервал {[round(v,2) for v in confidence_interval_costs[0].tolist()]}')\n",
    "    else:\n",
    "        print(f'{area}: себестоимость значимо не отличается. pvalue - {round(p_value_costs, 5)}, доверительный интервал {[round(v,2) for v in confidence_interval_costs[0].tolist()]}')"
   ]
  },
  {
   "cell_type": "markdown",
   "metadata": {},
   "source": [
    "**Оба теста показали одинаковый результат**:  \n",
    "   **- в 2-х ПУ нет различий в себестоимости 1 тн. В таком случае использовать интенсивную технологию нецелесообразно, т.к. выше риск понести убытки**.  \n",
    "    **- Только в ПУ 6855 интенсивная технология оправдала себя.**"
   ]
  },
  {
   "cell_type": "markdown",
   "metadata": {},
   "source": [
    "<p id=\"part8\"></p>\n",
    "\n",
    "<p style=\"font-family: Verdana; font-size: 14px; font-style: normal; letter-spacing: 3px; color: #00008B\">4.3 Оценка запаса прочности эффективности интенсивной технологии</p>"
   ]
  },
  {
   "cell_type": "code",
   "execution_count": 17,
   "metadata": {
    "scrolled": false
   },
   "outputs": [
    {
     "name": "stdout",
     "output_type": "stream",
     "text": [
      "\u001b[1m 6855: на сколько можно изменить затраты на 1 га для равенства сс 1 тн по технологиям: \u001b[0m \n",
      "     фактические затраты на га: 34801.0 руб.\n",
      "     максимально возможные затраты на га: 40655.0 руб.\n",
      "     запас прочности на га: 5854.0 руб.\n",
      "\u001b[1m 6855: изменение урожайности интенсива для уравнения себестоимости 1 тн при текущих затратах на га: \u001b[0m \n",
      "     фактическая урожайность интенсива: 444.0 ц/га \n",
      "     минимально возможная урожайность интенсива: 380.0 ц/га\n",
      "     запас прочности по урожайности: 64.0 ц/га\n",
      "\n"
     ]
    },
    {
     "name": "stderr",
     "output_type": "stream",
     "text": [
      "C:\\Users\\Dmitry\\anaconda3\\lib\\site-packages\\ipykernel_launcher.py:4: SettingWithCopyWarning: \n",
      "A value is trying to be set on a copy of a slice from a DataFrame.\n",
      "Try using .loc[row_indexer,col_indexer] = value instead\n",
      "\n",
      "See the caveats in the documentation: https://pandas.pydata.org/pandas-docs/stable/user_guide/indexing.html#returning-a-view-versus-a-copy\n",
      "  after removing the cwd from sys.path.\n",
      "C:\\Users\\Dmitry\\anaconda3\\lib\\site-packages\\ipykernel_launcher.py:5: SettingWithCopyWarning: \n",
      "A value is trying to be set on a copy of a slice from a DataFrame.\n",
      "Try using .loc[row_indexer,col_indexer] = value instead\n",
      "\n",
      "See the caveats in the documentation: https://pandas.pydata.org/pandas-docs/stable/user_guide/indexing.html#returning-a-view-versus-a-copy\n",
      "  \"\"\"\n"
     ]
    }
   ],
   "source": [
    "for area3 in filter_area3:\n",
    "    df_ss_area = df_region_filter_costs[df_region_filter_costs['Код ПУ'] == area3]\n",
    "    # добавление столбцов - возникает предупреждение\n",
    "    df_ss_area['Валовой сбор тн'] = df_ss_area['Площадь поля\\n(ГА)'] * df_ss_area['Урожайность'] / 10\n",
    "    df_ss_area['Всего затрат'] = df_ss_area['Валовой сбор тн'] * df_ss_area['Затраты, руб/тн']\n",
    "    # группировка для усреднения результатов по ПУ\n",
    "    df_ss_area_group = df_ss_area.groupby(['Код ПУ', 'Технология']).sum()[['Площадь поля\\n(ГА)', 'Валовой сбор тн', 'Всего затрат']].reset_index()\n",
    "    df_ss_area_group['Урожайность'] = df_ss_area_group['Валовой сбор тн'] / df_ss_area_group['Площадь поля\\n(ГА)'] * 10\n",
    "    df_ss_area_group['Затраты на тн'] = df_ss_area_group['Всего затрат'] / df_ss_area_group['Валовой сбор тн']\n",
    "    df_ss_area_group['Затраты на га'] = df_ss_area_group['Всего затрат'] / df_ss_area_group['Площадь поля\\n(ГА)']\n",
    "    \n",
    "    # фактические затраты на га при интенсивной технологии\n",
    "    fact_cost_ha_i = df_ss_area_group[df_ss_area_group['Технология'] == 'интенсив']['Затраты на га'].sum() # .sum() для перевода типа series в число\n",
    "    # фактические затраты на тонну при стандартной технологии\n",
    "    fact_cost_t_st = df_ss_area_group[df_ss_area_group['Технология'] == 'стандарт']['Затраты на тн'].sum()\n",
    "    # фактические урожайность при интенсивной технологии\n",
    "    fact_crop_i = df_ss_area_group[df_ss_area_group['Технология'] == 'интенсив']['Урожайность'].sum()\n",
    "    #прогноз затрат на 1 тн (на сколько можно изменить затраты для равенства технологий)\n",
    "    prognoz_cost_i = fact_crop_i * fact_cost_t_st / 10\n",
    "    #прогноз интенсивной урожайности (на сколько изменить урожайность для равенства сс по технологиям)\n",
    "    prognoz_crop_i = fact_cost_ha_i / fact_cost_t_st * 10\n",
    "\n",
    "    print(f'\\033[1m {area3}: на сколько можно изменить затраты на 1 га для равенства сс 1 тн по технологиям: \\033[0m \\n \\\n",
    "    фактические затраты на га: {round(fact_cost_ha_i, 0)} руб.\\n \\\n",
    "    максимально возможные затраты на га: {round(prognoz_cost_i, 0)} руб.\\n \\\n",
    "    запас прочности на га: {round(prognoz_cost_i, 0) - round(fact_cost_ha_i, 0)} руб.')\n",
    "    print(f'\\033[1m {area3}: изменение урожайности интенсива для уравнения себестоимости 1 тн при текущих затратах на га: \\033[0m \\n \\\n",
    "    фактическая урожайность интенсива: {round(fact_crop_i, 0)} ц/га \\n \\\n",
    "    минимально возможная урожайность интенсива: {round(prognoz_crop_i, 0)} ц/га\\n \\\n",
    "    запас прочности по урожайности: {round(fact_crop_i, 0) - round(prognoz_crop_i, 0)} ц/га\\n')"
   ]
  },
  {
   "cell_type": "markdown",
   "metadata": {},
   "source": [
    "<a href=\"#part0\"><img src=\"https://cdn1.savepice.ru/uploads/2021/1/17/1b3a44a6551be87b14e3284d46165b34-full.png\" width=\"50\" height=\"50\" align=\"right\"></a>"
   ]
  },
  {
   "cell_type": "code",
   "execution_count": null,
   "metadata": {},
   "outputs": [],
   "source": []
  },
  {
   "cell_type": "code",
   "execution_count": null,
   "metadata": {},
   "outputs": [],
   "source": []
  },
  {
   "cell_type": "code",
   "execution_count": null,
   "metadata": {},
   "outputs": [],
   "source": []
  },
  {
   "cell_type": "code",
   "execution_count": null,
   "metadata": {},
   "outputs": [],
   "source": []
  },
  {
   "cell_type": "code",
   "execution_count": null,
   "metadata": {},
   "outputs": [],
   "source": []
  },
  {
   "cell_type": "code",
   "execution_count": null,
   "metadata": {},
   "outputs": [],
   "source": []
  },
  {
   "cell_type": "markdown",
   "metadata": {},
   "source": [
    "черновик"
   ]
  },
  {
   "cell_type": "code",
   "execution_count": null,
   "metadata": {},
   "outputs": [],
   "source": []
  },
  {
   "cell_type": "markdown",
   "metadata": {},
   "source": [
    "горячие клавиши\n",
    "https://habr.com/ru/post/483408/"
   ]
  },
  {
   "cell_type": "markdown",
   "metadata": {},
   "source": [
    "df_regions_effect = df_region_filter.loc[df['Код ПУ'].isin(filter_area3)]\n",
    "regions_effect = df_regions_effect['Регион'].unique()\n",
    "regions_effect"
   ]
  },
  {
   "cell_type": "markdown",
   "metadata": {},
   "source": [
    "d = pd.concat([df_ss_area_group, df_ss_area_group], ignore_index=True)\n",
    "d"
   ]
  },
  {
   "cell_type": "code",
   "execution_count": null,
   "metadata": {},
   "outputs": [],
   "source": []
  },
  {
   "cell_type": "markdown",
   "metadata": {},
   "source": [
    "https://legkovopros.ru/questions/25349/dublirovat-stroki-v-dataframe-na-osnove-znacheniya-stolbcza-duplicate"
   ]
  },
  {
   "cell_type": "markdown",
   "metadata": {},
   "source": [
    "df_repeat = df_ss_area_group\n",
    "df_repeat['Повторы'] = df_repeat['Площадь поля\\n(ГА)'].round().astype('int')\n",
    "df_repeat = df_repeat[['Урожайность', 'Повторы']]\n",
    "pd.DataFrame(np.repeat(df_repeat.values, df_repeat['Повторы'].values, axis=0), columns=['Урожайность', 'Повторы'])"
   ]
  },
  {
   "cell_type": "markdown",
   "metadata": {},
   "source": [
    "https://askdev.ru/q/kak-dobavit-stroki-v-freym-dannyh-pandas-v-cikle-for-101739/\n",
    "https://fooobar.com/questions/1667947/how-to-build-and-fill-pandas-dataframe-from-for-loop"
   ]
  },
  {
   "cell_type": "markdown",
   "metadata": {},
   "source": [
    "https://python-school.ru/python-for-statissticians/"
   ]
  },
  {
   "cell_type": "markdown",
   "metadata": {},
   "source": [
    "http://espressocode.top/python-creating-a-pandas-dataframe-column-based-on-a-given-condition/"
   ]
  }
 ],
 "metadata": {
  "kernelspec": {
   "display_name": "Python 3",
   "language": "python",
   "name": "python3"
  },
  "language_info": {
   "codemirror_mode": {
    "name": "ipython",
    "version": 3
   },
   "file_extension": ".py",
   "mimetype": "text/x-python",
   "name": "python",
   "nbconvert_exporter": "python",
   "pygments_lexer": "ipython3",
   "version": "3.7.6"
  }
 },
 "nbformat": 4,
 "nbformat_minor": 4
}
